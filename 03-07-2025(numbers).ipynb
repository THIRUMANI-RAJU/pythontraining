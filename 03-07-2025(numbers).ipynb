{
 "cells": [
  {
   "cell_type": "code",
   "execution_count": null,
   "id": "82634089-3941-40f2-8c8b-0fcc20f1fd51",
   "metadata": {},
   "outputs": [],
   "source": [
    "# 1.number \n",
    "# 2.series --> Natural , whole, even, odd, prime.\n",
    "# armstrong / nasadic number\n",
    "# strong\n",
    "# niviens\n",
    "# harshds\n",
    "# happy\n",
    "# kirshnamurthy's\n",
    "# atmorphic\n",
    "# adam's"
   ]
  },
  {
   "cell_type": "code",
   "execution_count": 35,
   "id": "fe8cd825-dbc5-4e4f-8aa2-8140e4bab72f",
   "metadata": {},
   "outputs": [
    {
     "name": "stdin",
     "output_type": "stream",
     "text": [
      "Enter a number to check 21321\n"
     ]
    },
    {
     "name": "stdout",
     "output_type": "stream",
     "text": [
      "It is not an Armstrong Number\n",
      "Temp value is  0\n"
     ]
    }
   ],
   "source": [
    "# Armstrong number\n",
    "n = int(input(\"Enter a number to check\"))\n",
    "l = len(str(n))\n",
    "t = n\n",
    "s = 0\n",
    "while n>0:\n",
    "    d = n%10\n",
    "    s = s+d**l\n",
    "    n = n//10\n",
    "if s == t:\n",
    "    print(\"It is an Armstrong Number\")\n",
    "    print(\"Temp value is \",n)\n",
    "else:\n",
    "    print(\"It is not an Armstrong Number\")\n",
    "    print(\"Temp value is \",n)"
   ]
  },
  {
   "cell_type": "code",
   "execution_count": 47,
   "id": "c6e259f3-4fe6-4523-9f72-b713ec496cb6",
   "metadata": {},
   "outputs": [
    {
     "name": "stdin",
     "output_type": "stream",
     "text": [
      "Enter a number 13\n"
     ]
    },
    {
     "name": "stdout",
     "output_type": "stream",
     "text": [
      "It is not an Harshad Number\n"
     ]
    }
   ],
   "source": [
    "# Niven's / Harshad Number\n",
    "n = int(input(\"Enter a number\"))\n",
    "t = n\n",
    "s = 0\n",
    "while n>0:\n",
    "    d = n%10\n",
    "    n = n//10\n",
    "    s = s+d\n",
    "if t%s==0:\n",
    "    print(\"It is an Harshad Number\")\n",
    "else:\n",
    "    print(\"It is not an Harshad Number\")"
   ]
  },
  {
   "cell_type": "code",
   "execution_count": 63,
   "id": "fea904b7-c29b-4fd0-b46a-618999069023",
   "metadata": {},
   "outputs": [
    {
     "name": "stdout",
     "output_type": "stream",
     "text": [
      "1 4 7 "
     ]
    }
   ],
   "source": [
    "for i in range(1,10,3):\n",
    "    print(i,end=\" \")"
   ]
  },
  {
   "cell_type": "code",
   "execution_count": 105,
   "id": "6d17ba78-baf1-4863-aeaf-898dacb3020a",
   "metadata": {},
   "outputs": [
    {
     "name": "stdin",
     "output_type": "stream",
     "text": [
      "Enter a word: asdf jkl;\n"
     ]
    },
    {
     "name": "stdout",
     "output_type": "stream",
     "text": [
      "a s d f   j k l ; "
     ]
    }
   ],
   "source": [
    "word = input(\"Enter a word:\")\n",
    "for i in word:\n",
    "    print(i,end=\" \")"
   ]
  },
  {
   "cell_type": "code",
   "execution_count": 97,
   "id": "8b1008cc-c046-4fd0-baf8-29847908c225",
   "metadata": {},
   "outputs": [
    {
     "name": "stdout",
     "output_type": "stream",
     "text": [
      "Square of 1 is 1\n",
      "Square of 2 is 4\n",
      "Square of 3 is 9\n",
      "Square of 4 is 16\n",
      "Square of 5 is 25\n",
      "Square of 6 is 36\n",
      "Square of 7 is 49\n",
      "Square of 8 is 64\n",
      "Square of 9 is 81\n",
      "Square of 10 is 100\n"
     ]
    }
   ],
   "source": [
    "for i in range(1,11):\n",
    "    print(f\"Square of {i} is {i**2}\")"
   ]
  },
  {
   "cell_type": "code",
   "execution_count": 111,
   "id": "4ce039b6-5af1-4b49-ac26-48ecc9f976fd",
   "metadata": {},
   "outputs": [
    {
     "name": "stdin",
     "output_type": "stream",
     "text": [
      "Enter a Number: 867\n"
     ]
    },
    {
     "name": "stdout",
     "output_type": "stream",
     "text": [
      " 867 * 1 = 867\n",
      " 867 * 2 = 1734\n",
      " 867 * 3 = 2601\n",
      " 867 * 4 = 3468\n",
      " 867 * 5 = 4335\n",
      " 867 * 6 = 5202\n",
      " 867 * 7 = 6069\n",
      " 867 * 8 = 6936\n",
      " 867 * 9 = 7803\n",
      " 867 * 10 = 8670\n"
     ]
    }
   ],
   "source": [
    "n = int(input(\"Enter a Number:\"))\n",
    "for i in range(1,11):\n",
    "    print(f\" {n} * {i} = {n*i}\")"
   ]
  },
  {
   "cell_type": "code",
   "execution_count": 139,
   "id": "838ce334-2794-4c7f-8ae7-f3560d666f6e",
   "metadata": {},
   "outputs": [
    {
     "name": "stdin",
     "output_type": "stream",
     "text": [
      "Enter the number: 5\n"
     ]
    },
    {
     "name": "stdout",
     "output_type": "stream",
     "text": [
      "120\n"
     ]
    }
   ],
   "source": [
    "fact = int(input(\"Enter the number:\"))\n",
    "factorial = 1\n",
    "for i in range(1, fact+1):\n",
    "    factorial*=i\n",
    "print(factorial)"
   ]
  },
  {
   "cell_type": "code",
   "execution_count": 159,
   "id": "1b6ec3af-73b2-4091-b382-73d334b28b6b",
   "metadata": {},
   "outputs": [
    {
     "name": "stdin",
     "output_type": "stream",
     "text": [
      "Enter the size 3\n"
     ]
    },
    {
     "name": "stdout",
     "output_type": "stream",
     "text": [
      "R R R \n",
      "R R R \n",
      "R R R \n"
     ]
    }
   ],
   "source": [
    "n = int(input(\"Enter the size\"))\n",
    "for i in range(n):\n",
    "    for j in range(n):\n",
    "        print(\"R\",end=\" \")\n",
    "    print()\n"
   ]
  },
  {
   "cell_type": "code",
   "execution_count": 163,
   "id": "db3586c7-0cde-4c17-9d4f-3c8fc7e13a83",
   "metadata": {},
   "outputs": [
    {
     "name": "stdin",
     "output_type": "stream",
     "text": [
      "Enter the size 5\n"
     ]
    },
    {
     "name": "stdout",
     "output_type": "stream",
     "text": [
      "R R R R R \n",
      "R       R \n",
      "R       R \n",
      "R       R \n",
      "R R R R R \n"
     ]
    }
   ],
   "source": [
    "n = int(input(\"Enter the size\"))\n",
    "for i in range(n):\n",
    "    for j in range(n):\n",
    "        if i==0 or i==n-1 or j==0 or j==n-1:\n",
    "            print(\"R\",end=\" \")\n",
    "        else:\n",
    "            print(\" \",end=\" \")\n",
    "    print()"
   ]
  },
  {
   "cell_type": "code",
   "execution_count": null,
   "id": "ce0ea099-d41e-42a8-82a4-12883f69c232",
   "metadata": {},
   "outputs": [],
   "source": []
  }
 ],
 "metadata": {
  "kernelspec": {
   "display_name": "Python 3 (ipykernel)",
   "language": "python",
   "name": "python3"
  },
  "language_info": {
   "codemirror_mode": {
    "name": "ipython",
    "version": 3
   },
   "file_extension": ".py",
   "mimetype": "text/x-python",
   "name": "python",
   "nbconvert_exporter": "python",
   "pygments_lexer": "ipython3",
   "version": "3.12.7"
  }
 },
 "nbformat": 4,
 "nbformat_minor": 5
}
