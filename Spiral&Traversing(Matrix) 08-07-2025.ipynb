{
 "cells": [
  {
   "cell_type": "code",
   "execution_count": 43,
   "id": "1e15a55f-f393-452c-a38d-fef89b4603f9",
   "metadata": {},
   "outputs": [
    {
     "name": "stdin",
     "output_type": "stream",
     "text": [
      "Enter a number:  8\n"
     ]
    },
    {
     "name": "stdout",
     "output_type": "stream",
     "text": [
      "  1   2   3   4   5   6   7   8 \n",
      " 28  29  30  31  32  33  34   9 \n",
      " 27  48  49  50  51  52  35  10 \n",
      " 26  47  60  61  62  53  36  11 \n",
      " 25  46  59  64  63  54  37  12 \n",
      " 24  45  58  57  56  55  38  13 \n",
      " 23  44  43  42  41  40  39  14 \n",
      " 22  21  20  19  18  17  16  15 \n"
     ]
    }
   ],
   "source": [
    "#spiral pattern\n",
    "n = int(input(\"Enter a number: \"))\n",
    "matrix = [[0]*n for _ in range(n)]\n",
    "top,left = 0,0\n",
    "right,bottom = n-1, n-1\n",
    "num = 1\n",
    "while top<=bottom and left<=right:\n",
    "    for i in range(left,right+1):\n",
    "        matrix[top][i] = num\n",
    "        num+= 1\n",
    "    top+= 1\n",
    "    for i in range(top,bottom+1):\n",
    "        matrix[i][right] = num\n",
    "        num+= 1\n",
    "    right-= 1\n",
    "    for i in range(right,left-1,-1):\n",
    "        matrix[bottom][i] = num\n",
    "        num+= 1\n",
    "    bottom-= 1\n",
    "    for i in range(bottom,top-1,-1):\n",
    "        matrix[i][left] = num\n",
    "        num+= 1\n",
    "    left+= 1\n",
    "for row in matrix:\n",
    "    for val in row:\n",
    "        print(f\"{val:3}\", end=' ')\n",
    "    print()"
   ]
  },
  {
   "cell_type": "code",
   "execution_count": 49,
   "id": "faa92366-25ad-4d45-bb79-1fc448e2f7a1",
   "metadata": {},
   "outputs": [
    {
     "name": "stdout",
     "output_type": "stream",
     "text": [
      "1 2 3 4 5 6 7 8 15 14 13 9 5 6 7 10 11 10 "
     ]
    }
   ],
   "source": [
    "#traversing of a matrix\n",
    "matrix = [[1,2,3,4],\n",
    "         [5,6,7,8],\n",
    "         [9,10,11,12],\n",
    "         [13,14,15,16]] \n",
    "rows = len(matrix)\n",
    "cols = len(matrix[0])\n",
    "top,left = 0,0\n",
    "right,bottom = cols-1,rows-1\n",
    "while top<=bottom and left<=right:\n",
    "    for i in range(left,right+1):\n",
    "        print(matrix[top][i], end=' ')\n",
    "    top+=1\n",
    "    for i in range(left,right+1):\n",
    "        print(matrix[top][i], end=' ')\n",
    "    right-=1\n",
    "    for i in range(right,left-1,-1):\n",
    "        print(matrix[bottom][i], end=' ')\n",
    "    bottom-=1\n",
    "    for i in range(bottom,top-1,-1):\n",
    "        print(matrix[i][left],end =' ')\n",
    "    left+=1"
   ]
  }
 ],
 "metadata": {
  "kernelspec": {
   "display_name": "Python 3 (ipykernel)",
   "language": "python",
   "name": "python3"
  },
  "language_info": {
   "codemirror_mode": {
    "name": "ipython",
    "version": 3
   },
   "file_extension": ".py",
   "mimetype": "text/x-python",
   "name": "python",
   "nbconvert_exporter": "python",
   "pygments_lexer": "ipython3",
   "version": "3.12.7"
  }
 },
 "nbformat": 4,
 "nbformat_minor": 5
}
