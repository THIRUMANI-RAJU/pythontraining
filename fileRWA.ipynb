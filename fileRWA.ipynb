{
 "cells": [
  {
   "cell_type": "code",
   "execution_count": 16,
   "id": "5ce71316-335a-4286-908b-4a8d29dc7cf3",
   "metadata": {},
   "outputs": [
    {
     "name": "stdout",
     "output_type": "stream",
     "text": [
      " latest data :\n",
      "my full name is raju thirumani.\n",
      "\n"
     ]
    },
    {
     "name": "stdin",
     "output_type": "stream",
     "text": [
      "\n",
      " enter text to overwrite from begining hjgdhgfj\n"
     ]
    },
    {
     "name": "stdout",
     "output_type": "stream",
     "text": [
      "file after wirting by r+ \n",
      "\n",
      "hjgdhgfjname is raju thirumani.\n",
      "\n"
     ]
    }
   ],
   "source": [
    "filename = 'root.txt'\n",
    "with open(filename,'w') as f:\n",
    "    f.write(\"my full name is raju thirumani.\\n\")\n",
    "with open(filename, 'r+') as file:\n",
    "    print(\" latest data :\")\n",
    "    print(file.read())\n",
    "    file.seek(0)\n",
    "    userinput = input(\"\\n enter text to overwrite from begining\")\n",
    "    file.write(userinput)\n",
    "    file.seek(0)\n",
    "    print(\"file after wirting by r+ \\n\")\n",
    "    print(file.read())"
   ]
  },
  {
   "cell_type": "code",
   "execution_count": 22,
   "id": "04a2e1c3-a732-409e-bafe-707f60d24ba2",
   "metadata": {},
   "outputs": [
    {
     "name": "stdin",
     "output_type": "stream",
     "text": [
      "Enter a line to append data adh\n"
     ]
    },
    {
     "name": "stdout",
     "output_type": "stream",
     "text": [
      "\n",
      " current content in the file\n",
      "dsfjhd\n",
      "adh\n",
      "\n"
     ]
    }
   ],
   "source": [
    "with open('line.txt','a+') as file:\n",
    "    text = input(\"Enter a line to append data\")\n",
    "    file.write(text+'\\n')\n",
    "    file.seek(0)\n",
    "    print(\"\\n current content in the file\")\n",
    "    print(file.read())"
   ]
  },
  {
   "cell_type": "code",
   "execution_count": 34,
   "id": "4a159c9a-5dcd-418b-a9c8-7509038ad3b9",
   "metadata": {},
   "outputs": [
    {
     "name": "stdin",
     "output_type": "stream",
     "text": [
      "Enter file name with extension file.txt\n",
      " a\n"
     ]
    },
    {
     "name": "stdout",
     "output_type": "stream",
     "text": [
      "a appears 0 times in the file\n"
     ]
    }
   ],
   "source": [
    "filename = input(\"Enter file name with extension\")\n",
    "with open(filename, 'r') as file:\n",
    "    text = file.read()\n",
    "    letter = input()\n",
    "    count = 0\n",
    "    for char in text:\n",
    "        if char == letter:\n",
    "            count +=1\n",
    "print(letter, \"appears\", count,\"times in the file\")"
   ]
  },
  {
   "cell_type": "code",
   "execution_count": null,
   "id": "e8782b90-611c-4cb9-8c03-be9472d445f6",
   "metadata": {},
   "outputs": [],
   "source": []
  }
 ],
 "metadata": {
  "kernelspec": {
   "display_name": "Python 3 (ipykernel)",
   "language": "python",
   "name": "python3"
  },
  "language_info": {
   "codemirror_mode": {
    "name": "ipython",
    "version": 3
   },
   "file_extension": ".py",
   "mimetype": "text/x-python",
   "name": "python",
   "nbconvert_exporter": "python",
   "pygments_lexer": "ipython3",
   "version": "3.12.7"
  }
 },
 "nbformat": 4,
 "nbformat_minor": 5
}
