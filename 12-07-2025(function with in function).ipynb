{
 "cells": [
  {
   "cell_type": "code",
   "execution_count": 20,
   "id": "f5b74d65-4fb5-4a83-8fd9-1e13fe28dca0",
   "metadata": {},
   "outputs": [
    {
     "name": "stdout",
     "output_type": "stream",
     "text": [
      "it is an outer function\n",
      "it is an inner function\n"
     ]
    }
   ],
   "source": [
    "def outer():\n",
    "    print(\"it is an outer function\")\n",
    "    def inner():\n",
    "        print(\"it is an inner function\")\n",
    "    inner()\n",
    "outer()\n"
   ]
  },
  {
   "cell_type": "code",
   "execution_count": 26,
   "id": "53f21d5b-39b1-42b2-b31b-f022c3a3a7f2",
   "metadata": {},
   "outputs": [
    {
     "name": "stdin",
     "output_type": "stream",
     "text": [
      "Enter a number 2\n",
      "Enter a number 3\n"
     ]
    },
    {
     "name": "stdout",
     "output_type": "stream",
     "text": [
      "Addition  5\n",
      "subtraction  -1\n",
      "multiplication 6\n"
     ]
    }
   ],
   "source": [
    "def cal(a,b):\n",
    "    def add():\n",
    "        return a+b\n",
    "    def sub():\n",
    "        return a-b\n",
    "    def mul():\n",
    "        return a*b\n",
    "    print(\"Addition \", add())\n",
    "    print(\"subtraction \", sub())\n",
    "    print(\"multiplication\",mul())\n",
    "a = int(input(\"Enter a number\"))\n",
    "b = int(input(\"Enter a number\"))\n",
    "cal(a,b)"
   ]
  },
  {
   "cell_type": "code",
   "execution_count": 28,
   "id": "f7a66c2d-5169-4c90-8ec8-54febbb27658",
   "metadata": {},
   "outputs": [
    {
     "name": "stdout",
     "output_type": "stream",
     "text": [
      "10\n",
      "15\n"
     ]
    }
   ],
   "source": [
    "def mul_by(n):\n",
    "    def inner(x): #call inner function x = 5\n",
    "        return x*n   #x*2    x*3\n",
    "    return inner\n",
    "times_2 = mul_by(2) #n = 2\n",
    "times_3 = mul_by(3) #n = 3\n",
    "print(times_2(5))\n",
    "print(times_3(5))"
   ]
  },
  {
   "cell_type": "code",
   "execution_count": 30,
   "id": "35d10951-7ae8-4841-9c7f-ddbbddb9f4db",
   "metadata": {},
   "outputs": [
    {
     "name": "stdout",
     "output_type": "stream",
     "text": [
      "Hello, Raju!!!!!!\n"
     ]
    }
   ],
   "source": [
    "def greet(text):\n",
    "    def inner(name):\n",
    "        return f\"{text}, {name}!!!!!!\"\n",
    "    return inner\n",
    "hi = greet('Hello')\n",
    "print(hi('Raju'))"
   ]
  },
  {
   "cell_type": "code",
   "execution_count": 52,
   "id": "bbbf2522-d577-4f16-abec-7b50a547ccad",
   "metadata": {},
   "outputs": [
    {
     "name": "stdout",
     "output_type": "stream",
     "text": [
      "Hello,Mr.Raju!!!!!!\n",
      "Hello,Dr.Raj kumar!!!!!!\n"
     ]
    }
   ],
   "source": [
    "def titled(title):\n",
    "    def greet(name):\n",
    "        return f\"Hello,{title}{name}!!!!!!\"\n",
    "    return greet\n",
    "Mr_greet = titled(\"Mr.\")\n",
    "Dr_greet = titled(\"Dr.\")\n",
    "print(Mr_greet('Raju'))\n",
    "print(Dr_greet(\"Raj kumar\"))"
   ]
  },
  {
   "cell_type": "code",
   "execution_count": 56,
   "id": "9a6bfa0b-a99c-4ce2-b525-118a1e401a89",
   "metadata": {},
   "outputs": [
    {
     "name": "stdout",
     "output_type": "stream",
     "text": [
      "X =  134\n",
      "X =  100\n"
     ]
    }
   ],
   "source": [
    "x = 100\n",
    "def display():\n",
    "    x = 134\n",
    "    print(\"X = \",x)\n",
    "display()\n",
    "print(\"X = \",x)"
   ]
  },
  {
   "cell_type": "code",
   "execution_count": 66,
   "id": "abb2e1ab-4af4-4c2d-9912-26c6f9a1d3ce",
   "metadata": {},
   "outputs": [
    {
     "name": "stdout",
     "output_type": "stream",
     "text": [
      "X =  134\n",
      "Y =  2\n",
      "Locally  136\n",
      "X =  100\n",
      "old value of Y is : 10\n",
      "New value of Y is  234\n",
      "Globally  334\n"
     ]
    }
   ],
   "source": [
    "x = 100\n",
    "y = 2\n",
    "def display():\n",
    "    x = 134\n",
    "    print(\"X = \",x)\n",
    "    print(\"Y = \",y)\n",
    "    print(\"Locally \",x+y)\n",
    "display()\n",
    "print(\"X = \",x)\n",
    "y = 10\n",
    "print(\"old value of Y is :\",y)\n",
    "y = 234\n",
    "print(\"New value of Y is \", y)\n",
    "print(\"Globally \",x+y)"
   ]
  },
  {
   "cell_type": "code",
   "execution_count": 74,
   "id": "054cfcc5-02d7-4d30-9ee7-bd07b7080a97",
   "metadata": {},
   "outputs": [
    {
     "name": "stdin",
     "output_type": "stream",
     "text": [
      "Enter marks of a subject 1\n"
     ]
    },
    {
     "name": "stdout",
     "output_type": "stream",
     "text": [
      "subject_1 marks : 1\n"
     ]
    },
    {
     "name": "stdin",
     "output_type": "stream",
     "text": [
      "Enter marks of a subject 1\n"
     ]
    },
    {
     "name": "stdout",
     "output_type": "stream",
     "text": [
      "subject_2 marks : 1\n"
     ]
    },
    {
     "name": "stdin",
     "output_type": "stream",
     "text": [
      "Enter marks of a subject 1\n"
     ]
    },
    {
     "name": "stdout",
     "output_type": "stream",
     "text": [
      "subject_3 marks : 1\n",
      "Total marks stored in Global : 3\n"
     ]
    }
   ],
   "source": [
    "total = 0\n",
    "def add_subject_marks():\n",
    "    global total\n",
    "    marks = int(input(\"Enter marks of a subject\"))\n",
    "    total+=marks\n",
    "    return marks\n",
    "print(\"subject_1 marks :\", add_subject_marks())\n",
    "print(\"subject_2 marks :\", add_subject_marks())\n",
    "print(\"subject_3 marks :\", add_subject_marks())\n",
    "print(\"Total marks stored in Global :\",total)"
   ]
  },
  {
   "cell_type": "code",
   "execution_count": 78,
   "id": "24b14327-ac1a-4776-b4c9-1481ca24edf3",
   "metadata": {},
   "outputs": [
    {
     "name": "stdin",
     "output_type": "stream",
     "text": [
      "Enter marks for a subject:  5\n"
     ]
    },
    {
     "name": "stdout",
     "output_type": "stream",
     "text": [
      "subject_1 marks : 5\n"
     ]
    },
    {
     "name": "stdin",
     "output_type": "stream",
     "text": [
      "Enter marks for a subject:  5\n"
     ]
    },
    {
     "name": "stdout",
     "output_type": "stream",
     "text": [
      "subject_2 marks : 5\n"
     ]
    },
    {
     "name": "stdin",
     "output_type": "stream",
     "text": [
      "Enter marks for a subject:  5\n"
     ]
    },
    {
     "name": "stdout",
     "output_type": "stream",
     "text": [
      "subject_3 marks : 5\n",
      "All subject marks : [5, 5, 5]\n",
      "Total Marks:  15\n",
      "Average:  5.0\n"
     ]
    }
   ],
   "source": [
    "subject_marks = []\n",
    "def add_subject_marks():\n",
    "    mark = int(input(\"Enter marks for a subject: \"))\n",
    "    subject_marks.append(mark)\n",
    "    return mark\n",
    "print(\"subject_1 marks :\", add_subject_marks())\n",
    "print(\"subject_2 marks :\", add_subject_marks())\n",
    "print(\"subject_3 marks :\", add_subject_marks())\n",
    "print(\"All subject marks :\", subject_marks)\n",
    "total = sum(subject_marks)\n",
    "l = len(subject_marks)\n",
    "avg = total/l\n",
    "print(\"Total Marks: \", total)\n",
    "print(\"Average: \",avg)"
   ]
  },
  {
   "cell_type": "code",
   "execution_count": null,
   "id": "32029d1f-24f9-4003-8ff2-26f582f99488",
   "metadata": {},
   "outputs": [],
   "source": []
  }
 ],
 "metadata": {
  "kernelspec": {
   "display_name": "Python 3 (ipykernel)",
   "language": "python",
   "name": "python3"
  },
  "language_info": {
   "codemirror_mode": {
    "name": "ipython",
    "version": 3
   },
   "file_extension": ".py",
   "mimetype": "text/x-python",
   "name": "python",
   "nbconvert_exporter": "python",
   "pygments_lexer": "ipython3",
   "version": "3.12.7"
  }
 },
 "nbformat": 4,
 "nbformat_minor": 5
}
