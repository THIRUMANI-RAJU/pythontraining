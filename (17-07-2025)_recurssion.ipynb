{
 "cells": [
  {
   "cell_type": "code",
   "execution_count": 4,
   "id": "ad57a5d2-57c7-4a74-8332-9508043718bf",
   "metadata": {},
   "outputs": [
    {
     "name": "stdin",
     "output_type": "stream",
     "text": [
      "Enter terms:  6\n"
     ]
    },
    {
     "name": "stdout",
     "output_type": "stream",
     "text": [
      "0 1 1 2 3 5 "
     ]
    }
   ],
   "source": [
    "def fib(n):\n",
    "    if n <= 1:\n",
    "        return n\n",
    "    else:\n",
    "        return fib(n-1) + fib(n-2)\n",
    "\n",
    "num = int(input(\"Enter terms: \"))\n",
    "for i in range(num):\n",
    "    print(fib(i), end=\" \")\n"
   ]
  },
  {
   "cell_type": "code",
   "execution_count": 28,
   "id": "5cab3b1a-3d8a-43ac-a0d0-8399d194acae",
   "metadata": {},
   "outputs": [
    {
     "name": "stdin",
     "output_type": "stream",
     "text": [
      "Enter a 4 digit number:  256\n"
     ]
    },
    {
     "name": "stdout",
     "output_type": "stream",
     "text": [
      "sum of digits:  13\n"
     ]
    }
   ],
   "source": [
    "def dsum(n):\n",
    "    if n==0:\n",
    "        return 0\n",
    "    return n%10 + temp(n//10)\n",
    "def temp(n):\n",
    "    return dsum(n)\n",
    "num = int(input(\"Enter a 4 digit number: \"))\n",
    "print(\"sum of digits: \",dsum(num))"
   ]
  },
  {
   "cell_type": "code",
   "execution_count": 26,
   "id": "689bd99e-bf3c-4e92-b7a8-e553853a32f8",
   "metadata": {},
   "outputs": [
    {
     "name": "stdin",
     "output_type": "stream",
     "text": [
      "Enter a number:  8\n"
     ]
    },
    {
     "name": "stdout",
     "output_type": "stream",
     "text": [
      "8 is even\n"
     ]
    }
   ],
   "source": [
    "def one(n):\n",
    "    if n==0:\n",
    "        return True\n",
    "    else:\n",
    "        return two(n-1)\n",
    "def two(n):\n",
    "    if n==0:\n",
    "        return False\n",
    "    else:\n",
    "        return one(n-1)\n",
    "num = int(input(\"Enter a number: \"))\n",
    "if one(num):\n",
    "    print(f\"{num} is even\")\n",
    "else:\n",
    "    print(f\"{num} is odd\")"
   ]
  },
  {
   "cell_type": "code",
   "execution_count": 36,
   "id": "9bc3e27f-5897-48bc-b05f-c3e58e5f0bd2",
   "metadata": {},
   "outputs": [
    {
     "name": "stdin",
     "output_type": "stream",
     "text": [
      "Enter a number:  10\n"
     ]
    },
    {
     "name": "stdout",
     "output_type": "stream",
     "text": [
      "Raju 10\n",
      "Thirumani 9\n",
      "Raju 8\n",
      "Thirumani 7\n",
      "Raju 6\n",
      "Thirumani 5\n",
      "Raju 4\n",
      "Thirumani 3\n",
      "Raju 2\n",
      "Thirumani 1\n"
     ]
    }
   ],
   "source": [
    "def A(n):\n",
    "    if n<=0:\n",
    "        return\n",
    "    print(\"Raju\", rand(n)\n",
    "    B(n-1)\n",
    "def B(n):\n",
    "    if n<=0:\n",
    "        return \n",
    "    print(\"Thirumani\",n)\n",
    "    A(n-1)\n",
    "num = int(input(\"Enter a number: \"))\n",
    "A(num)"
   ]
  },
  {
   "cell_type": "code",
   "execution_count": 62,
   "id": "ca1b9e0d-4109-480e-b80a-37eebe57063b",
   "metadata": {},
   "outputs": [
    {
     "name": "stdin",
     "output_type": "stream",
     "text": [
      "Enter Number to Play:  5\n"
     ]
    },
    {
     "name": "stdout",
     "output_type": "stream",
     "text": [
      "\n",
      " Player A's turn. Current number 5\n"
     ]
    },
    {
     "name": "stdin",
     "output_type": "stream",
     "text": [
      "Player A,subtract 1 or 2: 1\n"
     ]
    },
    {
     "name": "stdout",
     "output_type": "stream",
     "text": [
      "\n",
      " Player B's turn. Current number 4\n"
     ]
    },
    {
     "name": "stdin",
     "output_type": "stream",
     "text": [
      "Player B,subtract 1 or 2: 1\n"
     ]
    },
    {
     "name": "stdout",
     "output_type": "stream",
     "text": [
      "\n",
      " Player A's turn. Current number 3\n"
     ]
    },
    {
     "name": "stdin",
     "output_type": "stream",
     "text": [
      "Player A,subtract 1 or 2: 1\n"
     ]
    },
    {
     "name": "stdout",
     "output_type": "stream",
     "text": [
      "\n",
      " Player B's turn. Current number 2\n"
     ]
    },
    {
     "name": "stdin",
     "output_type": "stream",
     "text": [
      "Player B,subtract 1 or 2: 1\n"
     ]
    },
    {
     "name": "stdout",
     "output_type": "stream",
     "text": [
      "\n",
      " Player A's turn. Current number 1\n"
     ]
    },
    {
     "name": "stdin",
     "output_type": "stream",
     "text": [
      "Player A,subtract 1 or 2: 1\n"
     ]
    },
    {
     "name": "stdout",
     "output_type": "stream",
     "text": [
      "Player B reached 0!! Player B loss😂\n"
     ]
    }
   ],
   "source": [
    "def Player_A(n):\n",
    "    if n<=0:\n",
    "        print(\"Player A reached 0!! Player A loss😂\")\n",
    "        return\n",
    "    print(f\"\\n Player A's turn. Current number {n}\")\n",
    "    move = int(input(\"Player A,subtract 1 or 2:\"))\n",
    "    while move not in [1,2]:\n",
    "        move = int(input(\"Player A,subtract 1 or 2:\"))\n",
    "    Player_B(n-move)\n",
    "def Player_B(n):\n",
    "    if n<=0:\n",
    "        print(\"Player B reached 0!! Player B loss😂\")\n",
    "        return\n",
    "    print(f\"\\n Player B's turn. Current number {n}\")\n",
    "    move = int(input(\"Player B,subtract 1 or 2:\"))\n",
    "    while move not in [1,2]:\n",
    "        move = int(input(\"Player B,subtract 1 or 2:\"))\n",
    "    Player_A(n-move)\n",
    "\n",
    "Start = int(input(\"Enter Number to Play: \"))\n",
    "Player_A(Start)"
   ]
  },
  {
   "cell_type": "code",
   "execution_count": null,
   "id": "b4094dda-2b50-465f-89a0-8e6497ffb7d8",
   "metadata": {},
   "outputs": [],
   "source": []
  }
 ],
 "metadata": {
  "kernelspec": {
   "display_name": "Python 3 (ipykernel)",
   "language": "python",
   "name": "python3"
  },
  "language_info": {
   "codemirror_mode": {
    "name": "ipython",
    "version": 3
   },
   "file_extension": ".py",
   "mimetype": "text/x-python",
   "name": "python",
   "nbconvert_exporter": "python",
   "pygments_lexer": "ipython3",
   "version": "3.12.7"
  }
 },
 "nbformat": 4,
 "nbformat_minor": 5
}
