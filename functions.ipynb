{
 "cells": [
  {
   "cell_type": "code",
   "execution_count": 5,
   "id": "d6086b72-6d27-46db-b6f2-506882e9147b",
   "metadata": {},
   "outputs": [
    {
     "name": "stdout",
     "output_type": "stream",
     "text": [
      "72\n"
     ]
    }
   ],
   "source": [
    "print(ord(\"H\"))"
   ]
  },
  {
   "cell_type": "code",
   "execution_count": 19,
   "id": "8191dd57-b701-4132-a5d9-0428bdbfe1b1",
   "metadata": {},
   "outputs": [
    {
     "name": "stdout",
     "output_type": "stream",
     "text": [
      "Hello world\n"
     ]
    }
   ],
   "source": [
    "def Hi():\n",
    "    print(\"Hello world\")\n",
    "Hi()"
   ]
  },
  {
   "cell_type": "code",
   "execution_count": 25,
   "id": "6c7eb3d3-570d-4daf-a9f3-0b1f4865e934",
   "metadata": {},
   "outputs": [
    {
     "name": "stdin",
     "output_type": "stream",
     "text": [
      "Enter the money 10\n",
      "Enter the money 10\n"
     ]
    },
    {
     "name": "stdout",
     "output_type": "stream",
     "text": [
      "Total amount: 20\n"
     ]
    }
   ],
   "source": [
    "# functions with parameters\n",
    "def add(a,b):\n",
    "    return a+b\n",
    "student_1 = int(input(\"Enter the money\"))\n",
    "student_2 = int(input(\"Enter the money\"))\n",
    "total = add(student_1, student_2)\n",
    "print(\"Total amount:\",total)"
   ]
  },
  {
   "cell_type": "code",
   "execution_count": 31,
   "id": "3c6011e6-3320-43c5-81ee-e2717354722a",
   "metadata": {},
   "outputs": [
    {
     "name": "stdin",
     "output_type": "stream",
     "text": [
      "Enter the money 5\n",
      "Enter the money 5\n"
     ]
    },
    {
     "name": "stdout",
     "output_type": "stream",
     "text": [
      "Total amount: 10\n"
     ]
    }
   ],
   "source": [
    "# functions with parameters / return value\n",
    "def add(student_1, student_2):\n",
    "    return student_1+student_2\n",
    "student_1 = int(input(\"Enter the money\"))\n",
    "student_2 = int(input(\"Enter the money\"))\n",
    "total = add(student_1, student_2)\n",
    "print(\"Total amount:\",total)"
   ]
  },
  {
   "cell_type": "code",
   "execution_count": 39,
   "id": "9207dc80-d6dc-41cf-9f7e-904043409247",
   "metadata": {},
   "outputs": [
    {
     "name": "stdin",
     "output_type": "stream",
     "text": [
      "Enter the money 5\n",
      "Enter the money 5\n"
     ]
    },
    {
     "name": "stdout",
     "output_type": "stream",
     "text": [
      "total: 10\n"
     ]
    }
   ],
   "source": [
    "# functions with parameters but no return value\n",
    "def add(student_1, student_2):\n",
    "    print(\"total:\",student_1+student_2)\n",
    "student_1 = int(input(\"Enter the money\"))\n",
    "student_2 = int(input(\"Enter the money\"))\n",
    "add(student_1, student_2)"
   ]
  },
  {
   "cell_type": "code",
   "execution_count": 41,
   "id": "eb1c476f-ed9c-43f6-8462-a8a6d1e71393",
   "metadata": {},
   "outputs": [
    {
     "name": "stdout",
     "output_type": "stream",
     "text": [
      "value in the function is 2.14123\n"
     ]
    }
   ],
   "source": [
    "def value():\n",
    "    return 2.14123\n",
    "result = value()\n",
    "print(\"value in the function is\", result)"
   ]
  },
  {
   "cell_type": "code",
   "execution_count": 57,
   "id": "38d03af8-17d9-4b6a-8be8-0b911afe69fa",
   "metadata": {},
   "outputs": [
    {
     "name": "stdin",
     "output_type": "stream",
     "text": [
      "Enter your name: vijay kolluro\n"
     ]
    },
    {
     "name": "stdout",
     "output_type": "stream",
     "text": [
      "Welcome vijay kolluro\n"
     ]
    }
   ],
   "source": [
    "def get_name():\n",
    "    name = input(\"Enter your name:\")\n",
    "    return name\n",
    "user_name = get_name()\n",
    "print(\"Welcome\",user_name)"
   ]
  },
  {
   "cell_type": "code",
   "execution_count": 61,
   "id": "028d87d8-af00-480b-acfe-120bb0f7caac",
   "metadata": {},
   "outputs": [
    {
     "name": "stdout",
     "output_type": "stream",
     "text": [
      "120\n"
     ]
    }
   ],
   "source": [
    "a = 100\n",
    "def value(a):\n",
    "    return a+20\n",
    "print(value(a))"
   ]
  },
  {
   "cell_type": "code",
   "execution_count": 83,
   "id": "c283420b-0ad2-40ad-9507-492a47328207",
   "metadata": {},
   "outputs": [
    {
     "name": "stdin",
     "output_type": "stream",
     "text": [
      "Enter data: 54\n"
     ]
    },
    {
     "name": "stdout",
     "output_type": "stream",
     "text": [
      "Hello 54\n"
     ]
    }
   ],
   "source": [
    "def hi(name):\n",
    "    print(\"Hello\",name)\n",
    "a = input(\"Enter data:\")\n",
    "hi(a)"
   ]
  },
  {
   "cell_type": "code",
   "execution_count": 87,
   "id": "011948e7-abed-4c2a-9ee4-b94e18088839",
   "metadata": {},
   "outputs": [
    {
     "name": "stdout",
     "output_type": "stream",
     "text": [
      "name vijay\n",
      "Age: 33\n",
      "name mark\n",
      "Age: 0\n",
      "name unknown\n",
      "Age: 0\n"
     ]
    }
   ],
   "source": [
    "def info(name = \"unknown\",age = 0):\n",
    "    print(\"name\",name)\n",
    "    print(\"Age:\",age)\n",
    "info(\"vijay\",33)\n",
    "info(\"mark\" )\n",
    "info()"
   ]
  },
  {
   "cell_type": "code",
   "execution_count": 119,
   "id": "f8d3723d-e3d2-4d2d-9d52-8789f530fc53",
   "metadata": {},
   "outputs": [
    {
     "name": "stdin",
     "output_type": "stream",
     "text": [
      "Enter a Number 5\n",
      "Enter b Numeer 10\n"
     ]
    },
    {
     "name": "stdout",
     "output_type": "stream",
     "text": [
      "sum= 15\n",
      "sub= -5\n",
      "mul= 50\n",
      "div= 0.5\n",
      "mod= 0\n",
      "pow= 9765625\n"
     ]
    }
   ],
   "source": [
    "def cal(a,b):\n",
    "    return a+b, a-b, a*b, a/b, a//b, a**b\n",
    "a = int(input(\"Enter a Number\"))\n",
    "b = int(input(\"Enter b Numeer\"))\n",
    "sum, sub, mul, div, mod, pow = cal(a,b)\n",
    "print(\"sum=\",sum)\n",
    "print(\"sub=\",sub)\n",
    "print(\"mul=\",mul)\n",
    "print(\"div=\",div)\n",
    "print(\"mod=\",mod)\n",
    "print(\"pow=\",pow)"
   ]
  },
  {
   "cell_type": "code",
   "execution_count": 115,
   "id": "e6c4557f-eef4-4fdc-8c97-3dd67a9cfb5b",
   "metadata": {},
   "outputs": [
    {
     "name": "stdin",
     "output_type": "stream",
     "text": [
      "Enter a number:  1\n",
      "Enter b number:  2\n",
      "Enter c number:  3\n"
     ]
    },
    {
     "name": "stdout",
     "output_type": "stream",
     "text": [
      "max= 3 mini= 1\n"
     ]
    }
   ],
   "source": [
    "# write a function that receives 3 values from user and check the maximum and minimum of the 3 values in the same function and  return the maximum and \n",
    "# minimum values to the main program and \n",
    "\n",
    "def max_min(a, b, c):\n",
    "    return max(a, b, c),min(a, b, c)\n",
    "a = int(input(\"Enter a number: \"))\n",
    "b = int(input(\"Enter b number: \"))\n",
    "c = int(input(\"Enter c number: \"))\n",
    "maxi,mini=max_min(a,b,c)\n",
    "print(\"max=\",maxi,\"mini=\",mini)"
   ]
  },
  {
   "cell_type": "code",
   "execution_count": 133,
   "id": "d968cdda-5b26-4d0c-a2ef-cc7708001d97",
   "metadata": {},
   "outputs": [
    {
     "name": "stdin",
     "output_type": "stream",
     "text": [
      "Enter the numebrs as space seperate:  5 6 4 41 2 \n"
     ]
    },
    {
     "name": "stdout",
     "output_type": "stream",
     "text": [
      "Even count: 3\n",
      "odd count: 2\n"
     ]
    }
   ],
   "source": [
    "# write a function to count the list of even and odd numbers .. caliculate the even odd conformation in the function such that evaluated numbers list \n",
    "# will be passed to the main program\n",
    "# constraint : give the input as user defined\n",
    "\n",
    "# practice list and map\n",
    "def eo(numbers):\n",
    "    e = 0\n",
    "    o = 0\n",
    "    for n in numbers:\n",
    "        if n %2 ==0:\n",
    "            e+=1\n",
    "        else:\n",
    "            o+=1\n",
    "    return e,o\n",
    "num = input(\"Enter the numebrs as space seperate: \")\n",
    "num_list = list(map(int, num.split()))\n",
    "e,o = eo(num_list)\n",
    "print(\"Even count:\", e)\n",
    "print(\"odd count:\", o)"
   ]
  },
  {
   "cell_type": "code",
   "execution_count": 145,
   "id": "acda89eb-dbb0-4590-8c6d-bfc0f703ded6",
   "metadata": {},
   "outputs": [
    {
     "name": "stdout",
     "output_type": "stream",
     "text": [
      "27\n",
      "total: 7\n",
      "sum: None\n"
     ]
    }
   ],
   "source": [
    "expo = lambda a: a**a\n",
    "print(expo(3))\n",
    "\n",
    "expo = lambda b,c: b+c\n",
    "print(\"sum:\",add(2,5))"
   ]
  },
  {
   "cell_type": "code",
   "execution_count": 147,
   "id": "1a6e8923-6905-42a6-94d4-75ab97c34b97",
   "metadata": {},
   "outputs": [
    {
     "name": "stdout",
     "output_type": "stream",
     "text": [
      "is 6 is even? True\n"
     ]
    }
   ],
   "source": [
    "is_even = lambda n :n%2==0\n",
    "print(\"is 6 is even?\",is_even(6))"
   ]
  },
  {
   "cell_type": "code",
   "execution_count": 149,
   "id": "81e22c3e-d2a8-4306-a6db-13a7015d44e0",
   "metadata": {},
   "outputs": [
    {
     "name": "stdout",
     "output_type": "stream",
     "text": [
      "[1, 4, 9, 16, 25, 36, 49, 64, 81, 100]\n"
     ]
    }
   ],
   "source": [
    "nums = [1,2,3,4,5,6,7,8,9,10]\n",
    "squares = list(map(lambda n: n*n,nums))\n",
    "print(squares)"
   ]
  },
  {
   "cell_type": "code",
   "execution_count": null,
   "id": "ae65343a-fd79-4e1d-ae5a-c146f566ffb1",
   "metadata": {},
   "outputs": [],
   "source": []
  }
 ],
 "metadata": {
  "kernelspec": {
   "display_name": "Python 3 (ipykernel)",
   "language": "python",
   "name": "python3"
  },
  "language_info": {
   "codemirror_mode": {
    "name": "ipython",
    "version": 3
   },
   "file_extension": ".py",
   "mimetype": "text/x-python",
   "name": "python",
   "nbconvert_exporter": "python",
   "pygments_lexer": "ipython3",
   "version": "3.12.7"
  }
 },
 "nbformat": 4,
 "nbformat_minor": 5
}
