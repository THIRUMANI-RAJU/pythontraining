{
 "cells": [
  {
   "cell_type": "code",
   "execution_count": 13,
   "id": "1647ef72-b72d-42f2-903c-3f9d37803da0",
   "metadata": {},
   "outputs": [
    {
     "name": "stdin",
     "output_type": "stream",
     "text": [
      " 5\n"
     ]
    },
    {
     "name": "stdout",
     "output_type": "stream",
     "text": [
      "0 1 1 2 3 "
     ]
    }
   ],
   "source": [
    "#fib on tree recursions 011358\n",
    "def fib(i):\n",
    "    if i<=1:\n",
    "        return i\n",
    "    return fib(i-1)+fib(i-2)\n",
    "terms = int(input())\n",
    "for i in range(terms):\n",
    "    print(fib(i), end= ' ')"
   ]
  },
  {
   "cell_type": "code",
   "execution_count": 1,
   "id": "578c336f-0a80-4ed0-9fbc-0d3a80fec4de",
   "metadata": {},
   "outputs": [
    {
     "name": "stdin",
     "output_type": "stream",
     "text": [
      "Enter text to permutate:  abc\n"
     ]
    },
    {
     "name": "stdout",
     "output_type": "stream",
     "text": [
      "abc\n",
      "acb\n",
      "bac\n",
      "bca\n",
      "cab\n",
      "cba\n"
     ]
    }
   ],
   "source": [
    "# PERMUTATIONS OF CHAR IN TREE RECURSION\n",
    "def permutate(s, bucket=''):\n",
    "    if not s:\n",
    "        print(bucket)\n",
    "        return\n",
    "    for i in range(len(s)):\n",
    "        ns = s[:i] + s[i+1:]\n",
    "        permutate(ns, bucket + s[i])\n",
    "text = input(\"Enter text to permutate: \")\n",
    "permutate(text)"
   ]
  },
  {
   "cell_type": "code",
   "execution_count": null,
   "id": "3007a1d0-e976-41d9-ae6f-dbd776cc9848",
   "metadata": {},
   "outputs": [],
   "source": []
  }
 ],
 "metadata": {
  "kernelspec": {
   "display_name": "Python 3 (ipykernel)",
   "language": "python",
   "name": "python3"
  },
  "language_info": {
   "codemirror_mode": {
    "name": "ipython",
    "version": 3
   },
   "file_extension": ".py",
   "mimetype": "text/x-python",
   "name": "python",
   "nbconvert_exporter": "python",
   "pygments_lexer": "ipython3",
   "version": "3.12.7"
  }
 },
 "nbformat": 4,
 "nbformat_minor": 5
}
